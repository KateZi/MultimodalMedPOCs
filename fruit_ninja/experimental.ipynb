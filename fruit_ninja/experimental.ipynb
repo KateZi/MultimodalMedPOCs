{
 "cells": [
  {
   "cell_type": "code",
   "execution_count": null,
   "metadata": {},
   "outputs": [],
   "source": [
    "import os\n",
    "\n",
    "import matplotlib.pyplot as plt\n",
    "import numpy as np\n",
    "import pandas as pd\n",
    "import plot_util\n",
    "import util\n",
    "from scipy.stats import entropy"
   ]
  },
  {
   "cell_type": "code",
   "execution_count": null,
   "metadata": {},
   "outputs": [],
   "source": [
    "%load_ext autoreload\n",
    "%autoreload 2"
   ]
  },
  {
   "cell_type": "code",
   "execution_count": null,
   "metadata": {},
   "outputs": [],
   "source": [
    "%matplotlib widget"
   ]
  },
  {
   "cell_type": "code",
   "execution_count": null,
   "metadata": {},
   "outputs": [],
   "source": [
    "kate_path = os.path.join(\"data/kate_test\", \"before_cardio_events.csv\")\n",
    "eti_path = os.path.join(\"data/eti\", \"Eti_events.csv\")\n",
    "\n",
    "paths = {\"young\": kate_path, \"elderly\": eti_path}"
   ]
  },
  {
   "cell_type": "code",
   "execution_count": null,
   "metadata": {},
   "outputs": [],
   "source": [
    "wanted_game_ids = [[0], [1]]"
   ]
  },
  {
   "cell_type": "code",
   "execution_count": null,
   "metadata": {},
   "outputs": [],
   "source": [
    "data_dict = util.extract_data(paths, wanted_game_ids)"
   ]
  },
  {
   "cell_type": "code",
   "execution_count": null,
   "metadata": {},
   "outputs": [],
   "source": [
    "def filter_moves(df: pd.DataFrame):\n",
    "    return df.query(\"(not (Details.str.contains('UP'))) and (distance_x != 0)\")"
   ]
  },
  {
   "cell_type": "code",
   "execution_count": null,
   "metadata": {},
   "outputs": [],
   "source": [
    "feats, weights = plot_util.prepare_features(\n",
    "    {\n",
    "        \"young\": {\"actions\": filter_moves(data_dict[\"young\"][\"actions\"])},\n",
    "        \"elderly\": {\"actions\": filter_moves(data_dict[\"elderly\"][\"actions\"])},\n",
    "    },\n",
    "    [[\"actions\", \"velocity_x\"], [\"actions\", \"velocity_y\"]],\n",
    ")"
   ]
  },
  {
   "cell_type": "markdown",
   "metadata": {},
   "source": [
    "Plotting without the fliers"
   ]
  },
  {
   "cell_type": "code",
   "execution_count": null,
   "metadata": {},
   "outputs": [],
   "source": [
    "plot_util.plot_compare_box(feats, [\"young\", \"elderly\"], [\"px/sec\", \"px/sec\"])"
   ]
  },
  {
   "cell_type": "code",
   "execution_count": null,
   "metadata": {},
   "outputs": [],
   "source": [
    "trajectories_dict, polyms_dict, times_dict = util.collect_trajectories(data_dict, 3)"
   ]
  },
  {
   "cell_type": "code",
   "execution_count": null,
   "metadata": {},
   "outputs": [],
   "source": [
    "def compute_trajectories_feats(trajectories_dict: dict, times_dict: dict):\n",
    "    res = {key: {} for key in trajectories_dict.keys()}\n",
    "    for key in trajectories_dict.keys():\n",
    "        trajectories = trajectories_dict[key]\n",
    "        times = times_dict[key]\n",
    "        time_delta = list(\n",
    "            map(lambda time: np.diff(time) / np.timedelta64(1, \"s\"), times)\n",
    "        )\n",
    "        res[key][\"Velocity\"] = list(map(util.compute_vel_vec, trajectories, time_delta))\n",
    "        temp = list(map(util.compute_speed_dir_vec, res[key][\"Velocity\"]))\n",
    "        res[key][\"Speed\"] = [t[0] for t in temp]\n",
    "        res[key][\"Direction\"] = [t[1] for t in temp]\n",
    "        res[key][\"Duration\"] = list(\n",
    "            map(lambda time: (time[-1] - time[0]) / np.timedelta64(1, \"s\"), times)\n",
    "        )\n",
    "        res[key][\"Entropy\"] = list(\n",
    "            map(lambda t: entropy(t.clip(0)).mean(), trajectories)\n",
    "        )\n",
    "    return res"
   ]
  },
  {
   "cell_type": "code",
   "execution_count": null,
   "metadata": {},
   "outputs": [],
   "source": [
    "feature_dict = compute_trajectories_feats(trajectories_dict, times_dict)"
   ]
  },
  {
   "cell_type": "markdown",
   "metadata": {},
   "source": [
    "Plot of the performed swipes"
   ]
  },
  {
   "cell_type": "code",
   "execution_count": null,
   "metadata": {},
   "outputs": [],
   "source": [
    "_, ax = plt.subplots(ncols=len(trajectories_dict), sharex=True, sharey=True)\n",
    "titles = []\n",
    "\n",
    "cut_idx = data_dict['young']['fruits'].query(\"Details.str.contains('Cut')\")['index'].values\n",
    "cut_coor_idx = cut_idx - 1\n",
    "cut_coors = data_dict['young']['actions'].query(\"index.isin(@cut_coor_idx)\")[['x', 'y']].values\n",
    "\n",
    "ax[0].scatter(cut_coors[:,0], -cut_coors[:,1], color='black', marker='X')\n",
    "\n",
    "r = 0\n",
    "for t in trajectories_dict['young']:\n",
    "    inter = len(np.intersect1d(t, cut_coors)) // 2\n",
    "    if inter > 0:\n",
    "        r += 1\n",
    "\n",
    "titles.append(f'Young. Rate of hit swipes={r/len(trajectories_dict['young'])}')\n",
    "\n",
    "cut_idx = data_dict['elderly']['fruits'].query(\"Details.str.contains('Cut')\")['index'].values\n",
    "cut_coor_idx = cut_idx - 1\n",
    "cut_coors = data_dict['elderly']['actions'].query(\"index.isin(@cut_coor_idx)\")[['x', 'y']].values\n",
    "\n",
    "ax[1].scatter(cut_coors[:,0], -cut_coors[:,1], color='black', marker='X')\n",
    "\n",
    "r = 0\n",
    "for t in trajectories_dict['elderly']:\n",
    "    inter = len(np.intersect1d(t, cut_coors)) // 2\n",
    "    if inter > 0:\n",
    "        r += 1\n",
    "\n",
    "titles.append(f'Elderly. Rate of hit swipes={r/len(trajectories_dict['elderly']):.1f}')\n",
    "\n",
    "plot_util.plot_compare_trajectories(trajectories_dict, num=50, text_flag=False,\n",
    "                                    titles=titles, exclude={'young': [8], 'elderly': []}, \n",
    "                                    ax=ax);"
   ]
  },
  {
   "cell_type": "code",
   "execution_count": null,
   "metadata": {},
   "outputs": [],
   "source": [
    "feats, weights = plot_util.prepare_features(feature_dict, [[\"Direction\"]])"
   ]
  },
  {
   "cell_type": "code",
   "execution_count": null,
   "metadata": {},
   "outputs": [],
   "source": [
    "plot_util.plot_compare_hists(feats, weights, label=[\"Young\", \"Elderly\"])"
   ]
  },
  {
   "cell_type": "code",
   "execution_count": null,
   "metadata": {},
   "outputs": [],
   "source": [
    "plot_util.plot_compare_box(feats, [\"Young\", \"Elderly\"])"
   ]
  },
  {
   "cell_type": "code",
   "execution_count": null,
   "metadata": {},
   "outputs": [],
   "source": [
    "plot_util.plot_compare_hists(\n",
    "    feats,\n",
    "    weights,\n",
    "    nbins=7,\n",
    "    label=[\"Young\", \"Elderly\"],\n",
    "    xlabel=[\"Pixels (px)\", \"px/sec\", \"sec\"],\n",
    ")"
   ]
  },
  {
   "cell_type": "code",
   "execution_count": null,
   "metadata": {},
   "outputs": [],
   "source": [
    "feats, weights = plot_util.prepare_features(data_dict, [[\"fruits\", \"Response_time\"]])\n",
    "plot_util.plot_compare_box(feats, [\"Young\", \"Elderly\"])"
   ]
  },
  {
   "cell_type": "markdown",
   "metadata": {},
   "source": [
    "Distribution of scroll's distance. Not accumulated into a single move, so this is per a single 'flick'. \n",
    "\n",
    "PD patients are likely to have shorter scrolls, maybe overall longer DOWN to UP time"
   ]
  }
 ],
 "metadata": {
  "kernelspec": {
   "display_name": "env",
   "language": "python",
   "name": "python3"
  },
  "language_info": {
   "codemirror_mode": {
    "name": "ipython",
    "version": 3
   },
   "file_extension": ".py",
   "mimetype": "text/x-python",
   "name": "python",
   "nbconvert_exporter": "python",
   "pygments_lexer": "ipython3",
   "version": "3.12.3"
  }
 },
 "nbformat": 4,
 "nbformat_minor": 2
}
