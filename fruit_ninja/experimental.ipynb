{
 "cells": [
  {
   "cell_type": "code",
   "execution_count": null,
   "metadata": {},
   "outputs": [],
   "source": [
    "import os\n",
    "from typing import Optional\n",
    "\n",
    "import matplotlib.pyplot as plt\n",
    "import numpy as np\n",
    "import pandas as pd"
   ]
  },
  {
   "cell_type": "code",
   "execution_count": null,
   "metadata": {},
   "outputs": [],
   "source": [
    "%load_ext autoreload\n",
    "%autoreload 2"
   ]
  },
  {
   "cell_type": "code",
   "execution_count": null,
   "metadata": {},
   "outputs": [],
   "source": [
    "%matplotlib widget"
   ]
  },
  {
   "cell_type": "code",
   "execution_count": null,
   "metadata": {},
   "outputs": [],
   "source": [
    "data_path = \"data/FN_ids_data\"\n",
    "# prefix = \"Ben_2024-05-20_14:33:17:628\"\n",
    "prefix = \"emulator\"\n",
    "events_path = os.path.join(data_path, f\"{prefix}_events.csv\")\n",
    "# sensors_path = os.path.join(data_path, f\"{prefix}_sensors_data.csv\")"
   ]
  },
  {
   "cell_type": "code",
   "execution_count": null,
   "metadata": {},
   "outputs": [],
   "source": [
    "data_path = \"data/izhar\"\n",
    "before_path = os.path.join(data_path, \"before_cardio.csv\")\n",
    "after_path = os.path.join(data_path, \"after_cardio.csv\")\n",
    "\n",
    "paths = {\"before\": before_path, \"after\": after_path}"
   ]
  },
  {
   "cell_type": "code",
   "execution_count": null,
   "metadata": {},
   "outputs": [],
   "source": [
    "wanted_game_ids = [[0], [1]]"
   ]
  },
  {
   "cell_type": "code",
   "execution_count": null,
   "metadata": {},
   "outputs": [],
   "source": [
    "def convert_time_stamps(df: pd.DataFrame):\n",
    "    df[\"Timestamp\"] = df[\"Timestamp\"].str.replace(\n",
    "        r\"(.*)_(.*):(\\d\\d\\d)$\", r\"\\1 \\2.\\3\", regex=True\n",
    "    )\n",
    "    df[\"Timestamp\"] = pd.to_datetime(df[\"Timestamp\"], format=\"%Y-%m-%d %H:%M:%S.%f\")\n",
    "\n",
    "\n",
    "def compute_game_id(df: pd.DataFrame):\n",
    "    game_id = 0\n",
    "    game_ids = np.zeros(len(df), dtype=int)\n",
    "    game_starts = df.fillna(\"\").query(\"Details.str.contains('game starts')\").index\n",
    "    for game_start in game_starts:\n",
    "        game_ids[int(game_start) :] = game_id\n",
    "        game_id += 1\n",
    "    df[\"Game_id\"] = game_ids\n",
    "\n",
    "\n",
    "def compute_scroll_dist(scroll: str):\n",
    "    distance_x = np.abs(float(scroll.split(\"X: \")[1].split(\" \")[0]))\n",
    "    distance_y = np.abs(float(scroll.split(\"Y: \")[1].split(\" \")[0]))\n",
    "    distance = np.sqrt(distance_x * distance_x + distance_y * distance_y)\n",
    "    return distance_x, distance_y, distance\n",
    "\n",
    "\n",
    "def compute_fling_vel(fling: str):\n",
    "    velocity_x = float(fling.split(\"X: \")[1].split(\" \")[0])\n",
    "    velocity_y = float(fling.split(\"Y: \")[1].split(\" \")[0])\n",
    "    speed = np.sqrt(velocity_x * velocity_x + velocity_y * velocity_y)\n",
    "    direction = np.tanh(velocity_y / velocity_x)\n",
    "    return velocity_x, velocity_y, speed, direction\n",
    "\n",
    "\n",
    "def compute_fn_response_time(df: pd.DataFrame):\n",
    "\n",
    "    df[\"Fruit_id\"] = df[\"Details\"].str.extract(r\"(\\d+)$\").astype(int)\n",
    "\n",
    "    spawn_df = df[df[\"Details\"].str.contains(\"New\")].copy()\n",
    "    cut_df = df[df[\"Details\"].str.contains(\"Cut\")].copy()\n",
    "\n",
    "    merge_df = pd.merge(\n",
    "        spawn_df, cut_df, on=[\"Game_id\", \"Fruit_id\"], suffixes=(\"_spawn\", \"_cut\")\n",
    "    )\n",
    "    merge_df[\"Response_time\"] = (\n",
    "        merge_df[\"Timestamp_cut\"] - merge_df[\"Timestamp_spawn\"]\n",
    "    ).dt.total_seconds()\n",
    "\n",
    "    df = pd.merge(\n",
    "        df,\n",
    "        merge_df[[\"Game_id\", \"Fruit_id\", \"Response_time\"]],\n",
    "        on=[\"Game_id\", \"Fruit_id\"],\n",
    "    )\n",
    "\n",
    "    return df\n",
    "\n",
    "\n",
    "def extract_data(paths: dict):\n",
    "\n",
    "    res = {key: {} for key in paths.keys()}\n",
    "\n",
    "    for i, (key, path) in enumerate(paths.items()):\n",
    "        df = pd.read_csv(path, header=1)\n",
    "        convert_time_stamps(df)\n",
    "        compute_game_id(df)\n",
    "        df = df.query(\"Game_id == {}\".format(wanted_game_ids[i]))\n",
    "\n",
    "        touches = (\n",
    "            df.query(\"Activity.str.contains('FruitNinja')\").reset_index().fillna(\"\")\n",
    "        )\n",
    "        res[key][\"touches\"] = touches\n",
    "\n",
    "        fruits = df.fillna(\"\").query(\"Details.str.contains('fruit')\").reset_index()\n",
    "        fruits = compute_fn_response_time(fruits)\n",
    "        res[key][\"fruits\"] = fruits\n",
    "\n",
    "        actions = touches.query(\"Details.str.contains('Action')\")\n",
    "        actions[[\"x\", \"y\"]] = actions.apply(\n",
    "            lambda row: (\n",
    "                float(row[\"CoorX\"].split(\":\")[1]),\n",
    "                float(row[\"CoorY\"].split(\":\")[1]),\n",
    "            ),\n",
    "            axis=1,\n",
    "            result_type=\"expand\",\n",
    "        )\n",
    "        res[key][\"actions\"] = actions\n",
    "\n",
    "        scrolls = touches.query(\"Details.str.contains('Scroll')\")\n",
    "        scrolls[[\"distance_x\", \"distance_y\", \"distance\"]] = scrolls.apply(\n",
    "            lambda row: compute_scroll_dist(row[\"Details\"]),\n",
    "            axis=1,\n",
    "            result_type=\"expand\",\n",
    "        )\n",
    "        res[key][\"scrolls\"] = scrolls\n",
    "\n",
    "        flings = touches.query(\"Details.str.contains('Fling')\")\n",
    "        flings[[\"velocity_x\", \"velocity_y\", \"speed\", \"direction\"]] = flings.apply(\n",
    "            lambda row: compute_fling_vel(row[\"Details\"]), axis=1, result_type=\"expand\"\n",
    "        )\n",
    "        res[key][\"flings\"] = flings\n",
    "\n",
    "        # actions_down = touches.query(\"Details.str.contains('DOWN')\")\n",
    "        # moves = touches.query(\"Details.str.contains('MOVE')\")\n",
    "        # actions_up = touches.query(\"Details.str.contains('UP')\")\n",
    "\n",
    "    return res"
   ]
  },
  {
   "cell_type": "code",
   "execution_count": null,
   "metadata": {},
   "outputs": [],
   "source": [
    "data_dict = extract_data(paths)"
   ]
  },
  {
   "cell_type": "code",
   "execution_count": null,
   "metadata": {},
   "outputs": [],
   "source": [
    "def plot_hist_stat(arr: np.ndarray, ax: plt.Axes, label: str = \"\", title: str = \"\"):\n",
    "    ax.hist(arr, density=True)\n",
    "    ax.set_title(title)\n",
    "    avg = np.mean(arr)\n",
    "    var = np.std(arr)\n",
    "    ax.axvline(avg, color=\"green\")\n",
    "    ax.axvline(avg - var, color=\"green\", linestyle=\"--\")\n",
    "    ax.axvline(avg + var, color=\"green\", linestyle=\"--\")\n",
    "\n",
    "\n",
    "def plot_compare_hists(dfs_dict: dict, features: list, nbins: int = 10):\n",
    "    # fig = plt.figure(constrained_layout=True)\n",
    "    # subfigs = fig.subfigures(nrows=len(dfs_dict))\n",
    "    # for irow, (key, df) in enumerate(dfs_dict.items()):\n",
    "    #     subfigs[irow].suptitle(key)\n",
    "    #     ax = subfigs[irow].subplots(nrows=1, ncols=len(features), squeeze=False)\n",
    "    #     for icol, feature in enumerate(features):\n",
    "    # plot_hist_stat(df[feature[0]][feature[1]], ax[0,icol], title=feature)\n",
    "\n",
    "    fig, ax = plt.subplots(figsize=(8, 3), ncols=len(features), squeeze=False)\n",
    "    for icol, feature in enumerate(features):\n",
    "        ax[0, icol].set_title(f\"{feature[0]}, {feature[1]}\")\n",
    "        feat_acc = []\n",
    "        weights = []\n",
    "        for _, df in dfs_dict.items():\n",
    "            f = df[feature[0]][feature[1]]\n",
    "            feat_acc.append(f)\n",
    "            weights.append(np.full(f.shape[0], 1 / f.shape[0]))\n",
    "        ax[0, icol].hist(feat_acc, nbins, weights=weights, label=dfs_dict.keys())\n",
    "        ax[0, icol].set_xlabel(feature[2])\n",
    "\n",
    "    fig.tight_layout(rect=[0, 0.1, 1, 0.8])\n",
    "    plt.legend()"
   ]
  },
  {
   "cell_type": "markdown",
   "metadata": {},
   "source": [
    "Scrolls - an event after Down action and before Up action, if the coordinates of the two differ. Scroll gets samples every ~120 times a seconds (dynamic, so no way to know exactly). As a result, one scroll may end not in an Up event, but another scroll (can change direction and speed).\n",
    "Fling - a scroll event that does end up in Up action AND exceeds a certain threshold of speed.\n"
   ]
  },
  {
   "cell_type": "code",
   "execution_count": null,
   "metadata": {},
   "outputs": [],
   "source": [
    "plot_compare_hists(\n",
    "    data_dict,\n",
    "    [\n",
    "        [\"scrolls\", \"distance\", \"pixels (px)\"],\n",
    "        [\"flings\", \"speed\", \"px/sec\"],\n",
    "        [\"fruits\", \"Response_time\", \"sec\"],\n",
    "    ],\n",
    "    nbins=7,\n",
    ")"
   ]
  },
  {
   "cell_type": "markdown",
   "metadata": {},
   "source": [
    "Distribution of scroll's distance. Not accumulated into a single move, so this is per a single 'flick'. \n",
    "\n",
    "PD patients are likely to have shorter scrolls, maybe overall longer DOWN to UP time"
   ]
  },
  {
   "cell_type": "markdown",
   "metadata": {},
   "source": [
    "Demonstration of the data we collect from the screen. Maybe we should show in a similar manner the sensors' data we collect. Direction relative to the screen?"
   ]
  },
  {
   "cell_type": "code",
   "execution_count": null,
   "metadata": {},
   "outputs": [],
   "source": [
    "def collect_trajectories(dfs_dict: dict, poly_deg=5):\n",
    "\n",
    "    trajectories = {key: [] for key in dfs_dict.keys()}\n",
    "    polyms = {key: [] for key in dfs_dict.keys()}\n",
    "\n",
    "    for key, df in dfs_dict.items():\n",
    "        df = df[\"actions\"]\n",
    "        for _, action in df.iterrows():\n",
    "            if \"DOWN\" in action[\"Details\"]:\n",
    "                down_index = action[\"index\"]\n",
    "            elif (\"UP\" in action[\"Details\"]) and (action[\"index\"] > down_index):\n",
    "                up_index = action[\"index\"]\n",
    "\n",
    "                trajectory = df.query(\"@down_index < index <= @up_index\")[\n",
    "                    [\"x\", \"y\"]\n",
    "                ].values\n",
    "                trajectories[key].append(np.array(trajectory))\n",
    "\n",
    "                z = np.polyfit(trajectory[:, 0], trajectory[:, 1], poly_deg)\n",
    "                p = np.poly1d(z)\n",
    "                polyms[key].append(p(trajectory[:, 0]))\n",
    "\n",
    "                # m, c = np.linalg.lstsq(np.vstack([trajectory[:,0], np.ones(len(trajectory[:,0]))]).T, trajectory[:,1], rcond=None)[0]\n",
    "                # polyms[key].append(trajectory[:,0]*m + c)\n",
    "\n",
    "                down_index = 9999\n",
    "\n",
    "    return trajectories, polyms\n",
    "\n",
    "\n",
    "def plot_trajectory(\n",
    "    trajectory: np.ndarray, idx: int, ax: plt.Axes, polym: Optional[np.ndarray] = None\n",
    "):\n",
    "    x, y = trajectory[0][0], trajectory[0][1]\n",
    "    ax.scatter(x, y, color=\"green\")\n",
    "    ax.text(x, y, idx)\n",
    "\n",
    "    x, y = trajectory[-1][0], trajectory[-1][1]\n",
    "    ax.scatter(x, y, color=\"red\")\n",
    "\n",
    "    ax.plot(trajectory[:, 0], trajectory[:, 1], color=\"blue\")\n",
    "\n",
    "    if polym is not None:\n",
    "        smoothness = np.sqrt(np.sum(np.square(polym - trajectory[:, 1])))\n",
    "        smoothness = np.std(np.square(polym - trajectory[:, 1]))\n",
    "        ax.text(x, y, f\"{smoothness:.3f}\")\n",
    "        ax.plot(trajectory[:, 0], polym, color=\"orange\")\n",
    "\n",
    "\n",
    "def plot_compare_trajectories(\n",
    "    trajectories: dict, num: int = 10, polyms: Optional[dict] = None\n",
    "):\n",
    "    _, ax = plt.subplots(ncols=len(trajectories), sharex=True, sharey=True)\n",
    "    polym = None\n",
    "    for icol, (key, ele) in enumerate(trajectories.items()):\n",
    "        for e, trajectory in enumerate(ele):\n",
    "            if e >= num:\n",
    "                break\n",
    "            if polyms is not None:\n",
    "                polym = polyms[key][e]\n",
    "            plot_trajectory(trajectory, e, ax[icol], polym)\n",
    "\n",
    "    plt.tight_layout();"
   ]
  },
  {
   "cell_type": "code",
   "execution_count": null,
   "metadata": {},
   "outputs": [],
   "source": [
    "trajectories, polyms = collect_trajectories(data_dict)"
   ]
  },
  {
   "cell_type": "code",
   "execution_count": null,
   "metadata": {},
   "outputs": [],
   "source": [
    "plot_compare_trajectories(trajectories, num=10, polyms=polyms)"
   ]
  },
  {
   "cell_type": "code",
   "execution_count": null,
   "metadata": {},
   "outputs": [],
   "source": [
    "np.sqrt(np.sum(np.square(np.diff(paths[0], axis=0)), axis=1))"
   ]
  },
  {
   "cell_type": "markdown",
   "metadata": {},
   "source": [
    "Velocities - speed of movement. From position to position. Speed of change of distance traveled is acceleration?"
   ]
  },
  {
   "cell_type": "code",
   "execution_count": null,
   "metadata": {},
   "outputs": [],
   "source": [
    "velocities = []\n",
    "for index, action in actions.iterrows():\n",
    "    if \"DOWN\" in action[\"Details\"]:\n",
    "        down_index = action[\"index\"]\n",
    "    if \"UP\" in action[\"Details\"]:\n",
    "        up_index = action[\"index\"]\n",
    "        scroll = scrolls.query(\"{} <= index <= {}\".format(down_index - 1, up_index))\n",
    "        if len(scroll) > 0:\n",
    "            scroll_time_delta = scroll[\"Timestamp\"].diff().dt.total_seconds() * 1000\n",
    "            velocities.append((scroll[\"distance\"] / scroll_time_delta).values)\n",
    "        break"
   ]
  },
  {
   "cell_type": "code",
   "execution_count": null,
   "metadata": {},
   "outputs": [],
   "source": [
    "fig, ax = plt.subplots(ncols=2)\n",
    "for velocity in velocities:\n",
    "    ax[0].plot(velocity)\n",
    "ax[1].hist([np.nanmean(velocity) for velocity in velocities]);"
   ]
  }
 ],
 "metadata": {
  "kernelspec": {
   "display_name": "env",
   "language": "python",
   "name": "python3"
  },
  "language_info": {
   "codemirror_mode": {
    "name": "ipython",
    "version": 3
   },
   "file_extension": ".py",
   "mimetype": "text/x-python",
   "name": "python",
   "nbconvert_exporter": "python",
   "pygments_lexer": "ipython3",
   "version": "3.12.3"
  }
 },
 "nbformat": 4,
 "nbformat_minor": 2
}
